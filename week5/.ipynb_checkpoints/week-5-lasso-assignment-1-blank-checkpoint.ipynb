{
 "cells": [
  {
   "cell_type": "markdown",
   "metadata": {},
   "source": [
    "# Regression Week 5: Feature Selection and LASSO (Interpretation)"
   ]
  },
  {
   "cell_type": "markdown",
   "metadata": {},
   "source": [
    "In this notebook, you will use LASSO to select features, building on a pre-implemented solver for LASSO (using GraphLab Create, though you can use other solvers). You will:\n",
    "* Run LASSO with different L1 penalties.\n",
    "* Choose best L1 penalty using a validation set.\n",
    "* Choose best L1 penalty using a validation set, with additional constraint on the size of subset.\n",
    "\n",
    "In the second notebook, you will implement your own LASSO solver, using coordinate descent. "
   ]
  },
  {
   "cell_type": "markdown",
   "metadata": {},
   "source": [
    "# Fire up graphlab create"
   ]
  },
  {
   "cell_type": "code",
   "execution_count": 1,
   "metadata": {
    "collapsed": true
   },
   "outputs": [],
   "source": [
    "import graphlab\n",
    "import numpy as np"
   ]
  },
  {
   "cell_type": "markdown",
   "metadata": {},
   "source": [
    "# Load in house sales data\n",
    "\n",
    "Dataset is from house sales in King County, the region where the city of Seattle, WA is located."
   ]
  },
  {
   "cell_type": "code",
   "execution_count": 5,
   "metadata": {
    "collapsed": false,
    "scrolled": true
   },
   "outputs": [],
   "source": [
    "sales = graphlab.SFrame('kc_house_data.gl/')"
   ]
  },
  {
   "cell_type": "code",
   "execution_count": 8,
   "metadata": {
    "collapsed": false
   },
   "outputs": [
    {
     "data": {
      "text/plain": [
       "<bound method SFrame.column_types of Columns:\n",
       "\tid\tstr\n",
       "\tdate\tdatetime\n",
       "\tprice\tfloat\n",
       "\tbedrooms\tfloat\n",
       "\tbathrooms\tfloat\n",
       "\tsqft_living\tfloat\n",
       "\tsqft_lot\tint\n",
       "\tfloors\tfloat\n",
       "\twaterfront\tint\n",
       "\tview\tint\n",
       "\tcondition\tint\n",
       "\tgrade\tint\n",
       "\tsqft_above\tint\n",
       "\tsqft_basement\tint\n",
       "\tyr_built\tint\n",
       "\tyr_renovated\tint\n",
       "\tzipcode\tstr\n",
       "\tlat\tfloat\n",
       "\tlong\tfloat\n",
       "\tsqft_living15\tfloat\n",
       "\tsqft_lot15\tfloat\n",
       "\tsqft_living_sqrt\tfloat\n",
       "\tsqft_lot_sqrt\tfloat\n",
       "\tbedrooms_square\tfloat\n",
       "\tfloors_square\tfloat\n",
       "\n",
       "Rows: 21613\n",
       "\n",
       "Data:\n",
       "+------------+---------------------------+-----------+----------+-----------+\n",
       "|     id     |            date           |   price   | bedrooms | bathrooms |\n",
       "+------------+---------------------------+-----------+----------+-----------+\n",
       "| 7129300520 | 2014-10-13 00:00:00+00:00 |  221900.0 |   3.0    |    1.0    |\n",
       "| 6414100192 | 2014-12-09 00:00:00+00:00 |  538000.0 |   3.0    |    2.25   |\n",
       "| 5631500400 | 2015-02-25 00:00:00+00:00 |  180000.0 |   2.0    |    1.0    |\n",
       "| 2487200875 | 2014-12-09 00:00:00+00:00 |  604000.0 |   4.0    |    3.0    |\n",
       "| 1954400510 | 2015-02-18 00:00:00+00:00 |  510000.0 |   3.0    |    2.0    |\n",
       "| 7237550310 | 2014-05-12 00:00:00+00:00 | 1225000.0 |   4.0    |    4.5    |\n",
       "| 1321400060 | 2014-06-27 00:00:00+00:00 |  257500.0 |   3.0    |    2.25   |\n",
       "| 2008000270 | 2015-01-15 00:00:00+00:00 |  291850.0 |   3.0    |    1.5    |\n",
       "| 2414600126 | 2015-04-15 00:00:00+00:00 |  229500.0 |   3.0    |    1.0    |\n",
       "| 3793500160 | 2015-03-12 00:00:00+00:00 |  323000.0 |   3.0    |    2.5    |\n",
       "+------------+---------------------------+-----------+----------+-----------+\n",
       "+-------------+----------+--------+------------+------+-----------+-------+------------+\n",
       "| sqft_living | sqft_lot | floors | waterfront | view | condition | grade | sqft_above |\n",
       "+-------------+----------+--------+------------+------+-----------+-------+------------+\n",
       "|    1180.0   |   5650   |  1.0   |     0      |  0   |     3     |   7   |    1180    |\n",
       "|    2570.0   |   7242   |  2.0   |     0      |  0   |     3     |   7   |    2170    |\n",
       "|    770.0    |  10000   |  1.0   |     0      |  0   |     3     |   6   |    770     |\n",
       "|    1960.0   |   5000   |  1.0   |     0      |  0   |     5     |   7   |    1050    |\n",
       "|    1680.0   |   8080   |  1.0   |     0      |  0   |     3     |   8   |    1680    |\n",
       "|    5420.0   |  101930  |  1.0   |     0      |  0   |     3     |   11  |    3890    |\n",
       "|    1715.0   |   6819   |  2.0   |     0      |  0   |     3     |   7   |    1715    |\n",
       "|    1060.0   |   9711   |  1.0   |     0      |  0   |     3     |   7   |    1060    |\n",
       "|    1780.0   |   7470   |  1.0   |     0      |  0   |     3     |   7   |    1050    |\n",
       "|    1890.0   |   6560   |  2.0   |     0      |  0   |     3     |   7   |    1890    |\n",
       "+-------------+----------+--------+------------+------+-----------+-------+------------+\n",
       "+---------------+----------+--------------+---------+-------------+\n",
       "| sqft_basement | yr_built | yr_renovated | zipcode |     lat     |\n",
       "+---------------+----------+--------------+---------+-------------+\n",
       "|       0       |   1955   |      0       |  98178  | 47.51123398 |\n",
       "|      400      |   1951   |     1991     |  98125  | 47.72102274 |\n",
       "|       0       |   1933   |      0       |  98028  | 47.73792661 |\n",
       "|      910      |   1965   |      0       |  98136  |   47.52082  |\n",
       "|       0       |   1987   |      0       |  98074  | 47.61681228 |\n",
       "|      1530     |   2001   |      0       |  98053  | 47.65611835 |\n",
       "|       0       |   1995   |      0       |  98003  | 47.30972002 |\n",
       "|       0       |   1963   |      0       |  98198  | 47.40949984 |\n",
       "|      730      |   1960   |      0       |  98146  | 47.51229381 |\n",
       "|       0       |   2003   |      0       |  98038  | 47.36840673 |\n",
       "+---------------+----------+--------------+---------+-------------+\n",
       "+---------------+---------------+-----+\n",
       "|      long     | sqft_living15 | ... |\n",
       "+---------------+---------------+-----+\n",
       "| -122.25677536 |     1340.0    | ... |\n",
       "|  -122.3188624 |     1690.0    | ... |\n",
       "| -122.23319601 |     2720.0    | ... |\n",
       "| -122.39318505 |     1360.0    | ... |\n",
       "| -122.04490059 |     1800.0    | ... |\n",
       "| -122.00528655 |     4760.0    | ... |\n",
       "| -122.32704857 |     2238.0    | ... |\n",
       "| -122.31457273 |     1650.0    | ... |\n",
       "| -122.33659507 |     1780.0    | ... |\n",
       "|  -122.0308176 |     2390.0    | ... |\n",
       "+---------------+---------------+-----+\n",
       "[21613 rows x 25 columns]\n",
       "Note: Only the head of the SFrame is printed.\n",
       "You can use print_rows(num_rows=m, num_columns=n) to print more rows and columns.>"
      ]
     },
     "execution_count": 8,
     "metadata": {},
     "output_type": "execute_result"
    }
   ],
   "source": [
    "sales.column_types"
   ]
  },
  {
   "cell_type": "markdown",
   "metadata": {},
   "source": [
    "# Create new features"
   ]
  },
  {
   "cell_type": "markdown",
   "metadata": {},
   "source": [
    "As in Week 2, we consider features that are some transformations of inputs."
   ]
  },
  {
   "cell_type": "code",
   "execution_count": 6,
   "metadata": {
    "collapsed": true
   },
   "outputs": [],
   "source": [
    "from math import log, sqrt\n",
    "sales['sqft_living_sqrt'] = sales['sqft_living'].apply(sqrt)\n",
    "sales['sqft_lot_sqrt'] = sales['sqft_lot'].apply(sqrt)\n",
    "sales['bedrooms_square'] = sales['bedrooms']*sales['bedrooms']\n",
    "\n",
    "# In the dataset, 'floors' was defined with type string, \n",
    "# so we'll convert them to float, before creating a new feature.\n",
    "sales['floors'] = sales['floors'].astype(float) \n",
    "sales['floors_square'] = sales['floors']*sales['floors']"
   ]
  },
  {
   "cell_type": "markdown",
   "metadata": {},
   "source": [
    "* Squaring bedrooms will increase the separation between not many bedrooms (e.g. 1) and lots of bedrooms (e.g. 4) since 1^2 = 1 but 4^2 = 16. Consequently this variable will mostly affect houses with many bedrooms.\n",
    "* On the other hand, taking square root of sqft_living will decrease the separation between big house and small house. The owner may not be exactly twice as happy for getting a house that is twice as big."
   ]
  },
  {
   "cell_type": "markdown",
   "metadata": {},
   "source": [
    "# Learn regression weights with L1 penalty"
   ]
  },
  {
   "cell_type": "markdown",
   "metadata": {},
   "source": [
    "Let us fit a model with all the features available, plus the features we just created above."
   ]
  },
  {
   "cell_type": "code",
   "execution_count": 11,
   "metadata": {
    "collapsed": false
   },
   "outputs": [],
   "source": [
    "all_features = ['bedrooms', 'bedrooms_square',\n",
    "                'bathrooms', \n",
    "                'sqft_living', 'sqft_living_sqrt',\n",
    "                'sqft_lot', 'sqft_lot_sqrt',\n",
    "                'floors', 'floors_square',\n",
    "                'waterfront', \n",
    "                'view', \n",
    "                'condition', \n",
    "                'grade',\n",
    "                'sqft_above',\n",
    "                'sqft_basement',\n",
    "                'yr_built', \n",
    "                'yr_renovated']"
   ]
  },
  {
   "cell_type": "markdown",
   "metadata": {},
   "source": [
    "Applying L1 penalty requires adding an extra parameter (`l1_penalty`) to the linear regression call in GraphLab Create. (Other tools may have separate implementations of LASSO.)  Note that it's important to set `l2_penalty=0` to ensure we don't introduce an additional L2 penalty."
   ]
  },
  {
   "cell_type": "code",
   "execution_count": 12,
   "metadata": {
    "collapsed": false
   },
   "outputs": [
    {
     "data": {
      "text/html": [
       "<pre>Linear regression:</pre>"
      ],
      "text/plain": [
       "Linear regression:"
      ]
     },
     "metadata": {},
     "output_type": "display_data"
    },
    {
     "data": {
      "text/html": [
       "<pre>--------------------------------------------------------</pre>"
      ],
      "text/plain": [
       "--------------------------------------------------------"
      ]
     },
     "metadata": {},
     "output_type": "display_data"
    },
    {
     "data": {
      "text/html": [
       "<pre>Number of examples          : 21613</pre>"
      ],
      "text/plain": [
       "Number of examples          : 21613"
      ]
     },
     "metadata": {},
     "output_type": "display_data"
    },
    {
     "data": {
      "text/html": [
       "<pre>Number of features          : 17</pre>"
      ],
      "text/plain": [
       "Number of features          : 17"
      ]
     },
     "metadata": {},
     "output_type": "display_data"
    },
    {
     "data": {
      "text/html": [
       "<pre>Number of unpacked features : 17</pre>"
      ],
      "text/plain": [
       "Number of unpacked features : 17"
      ]
     },
     "metadata": {},
     "output_type": "display_data"
    },
    {
     "data": {
      "text/html": [
       "<pre>Number of coefficients    : 18</pre>"
      ],
      "text/plain": [
       "Number of coefficients    : 18"
      ]
     },
     "metadata": {},
     "output_type": "display_data"
    },
    {
     "data": {
      "text/html": [
       "<pre>Starting Accelerated Gradient (FISTA)</pre>"
      ],
      "text/plain": [
       "Starting Accelerated Gradient (FISTA)"
      ]
     },
     "metadata": {},
     "output_type": "display_data"
    },
    {
     "data": {
      "text/html": [
       "<pre>--------------------------------------------------------</pre>"
      ],
      "text/plain": [
       "--------------------------------------------------------"
      ]
     },
     "metadata": {},
     "output_type": "display_data"
    },
    {
     "data": {
      "text/html": [
       "<pre>+-----------+----------+-----------+--------------+--------------------+---------------+</pre>"
      ],
      "text/plain": [
       "+-----------+----------+-----------+--------------+--------------------+---------------+"
      ]
     },
     "metadata": {},
     "output_type": "display_data"
    },
    {
     "data": {
      "text/html": [
       "<pre>| Iteration | Passes   | Step size | Elapsed Time | Training-max_error | Training-rmse |</pre>"
      ],
      "text/plain": [
       "| Iteration | Passes   | Step size | Elapsed Time | Training-max_error | Training-rmse |"
      ]
     },
     "metadata": {},
     "output_type": "display_data"
    },
    {
     "data": {
      "text/html": [
       "<pre>+-----------+----------+-----------+--------------+--------------------+---------------+</pre>"
      ],
      "text/plain": [
       "+-----------+----------+-----------+--------------+--------------------+---------------+"
      ]
     },
     "metadata": {},
     "output_type": "display_data"
    },
    {
     "data": {
      "text/html": [
       "<pre>Tuning step size. First iteration could take longer than subsequent iterations.</pre>"
      ],
      "text/plain": [
       "Tuning step size. First iteration could take longer than subsequent iterations."
      ]
     },
     "metadata": {},
     "output_type": "display_data"
    },
    {
     "data": {
      "text/html": [
       "<pre>| 1         | 2        | 0.000002  | 0.202927     | 6962915.603493     | 426631.749026 |</pre>"
      ],
      "text/plain": [
       "| 1         | 2        | 0.000002  | 0.202927     | 6962915.603493     | 426631.749026 |"
      ]
     },
     "metadata": {},
     "output_type": "display_data"
    },
    {
     "data": {
      "text/html": [
       "<pre>| 2         | 3        | 0.000002  | 0.219380     | 6843144.200219     | 392488.929838 |</pre>"
      ],
      "text/plain": [
       "| 2         | 3        | 0.000002  | 0.219380     | 6843144.200219     | 392488.929838 |"
      ]
     },
     "metadata": {},
     "output_type": "display_data"
    },
    {
     "data": {
      "text/html": [
       "<pre>| 3         | 4        | 0.000002  | 0.240565     | 6831900.032123     | 385340.166783 |</pre>"
      ],
      "text/plain": [
       "| 3         | 4        | 0.000002  | 0.240565     | 6831900.032123     | 385340.166783 |"
      ]
     },
     "metadata": {},
     "output_type": "display_data"
    },
    {
     "data": {
      "text/html": [
       "<pre>| 4         | 5        | 0.000002  | 0.261541     | 6847166.848958     | 384842.383767 |</pre>"
      ],
      "text/plain": [
       "| 4         | 5        | 0.000002  | 0.261541     | 6847166.848958     | 384842.383767 |"
      ]
     },
     "metadata": {},
     "output_type": "display_data"
    },
    {
     "data": {
      "text/html": [
       "<pre>| 5         | 6        | 0.000002  | 0.281180     | 6869667.895833     | 385998.458623 |</pre>"
      ],
      "text/plain": [
       "| 5         | 6        | 0.000002  | 0.281180     | 6869667.895833     | 385998.458623 |"
      ]
     },
     "metadata": {},
     "output_type": "display_data"
    },
    {
     "data": {
      "text/html": [
       "<pre>| 6         | 7        | 0.000002  | 0.300886     | 6847177.773672     | 380824.455891 |</pre>"
      ],
      "text/plain": [
       "| 6         | 7        | 0.000002  | 0.300886     | 6847177.773672     | 380824.455891 |"
      ]
     },
     "metadata": {},
     "output_type": "display_data"
    },
    {
     "data": {
      "text/html": [
       "<pre>+-----------+----------+-----------+--------------+--------------------+---------------+</pre>"
      ],
      "text/plain": [
       "+-----------+----------+-----------+--------------+--------------------+---------------+"
      ]
     },
     "metadata": {},
     "output_type": "display_data"
    },
    {
     "data": {
      "text/html": [
       "<pre>TERMINATED: Iteration limit reached.</pre>"
      ],
      "text/plain": [
       "TERMINATED: Iteration limit reached."
      ]
     },
     "metadata": {},
     "output_type": "display_data"
    }
   ],
   "source": [
    "model_all = graphlab.linear_regression.create(sales, target='price', features=all_features,\n",
    "                                              validation_set=None, \n",
    "                                              l2_penalty=0., l1_penalty=1e10)"
   ]
  },
  {
   "cell_type": "markdown",
   "metadata": {},
   "source": [
    "Find what features had non-zero weight."
   ]
  },
  {
   "cell_type": "code",
   "execution_count": 19,
   "metadata": {
    "collapsed": false
   },
   "outputs": [
    {
     "name": "stdout",
     "output_type": "stream",
     "text": [
      "+------------------+-------+---------------+--------+\n",
      "|       name       | index |     value     | stderr |\n",
      "+------------------+-------+---------------+--------+\n",
      "|   (intercept)    |  None |  274873.05595 |  None  |\n",
      "|     bedrooms     |  None |      0.0      |  None  |\n",
      "| bedrooms_square  |  None |      0.0      |  None  |\n",
      "|    bathrooms     |  None | 8468.53108691 |  None  |\n",
      "|   sqft_living    |  None | 24.4207209824 |  None  |\n",
      "| sqft_living_sqrt |  None | 350.060553386 |  None  |\n",
      "|     sqft_lot     |  None |      0.0      |  None  |\n",
      "|  sqft_lot_sqrt   |  None |      0.0      |  None  |\n",
      "|      floors      |  None |      0.0      |  None  |\n",
      "|  floors_square   |  None |      0.0      |  None  |\n",
      "|    waterfront    |  None |      0.0      |  None  |\n",
      "|       view       |  None |      0.0      |  None  |\n",
      "|    condition     |  None |      0.0      |  None  |\n",
      "|      grade       |  None | 842.068034898 |  None  |\n",
      "|    sqft_above    |  None | 20.0247224171 |  None  |\n",
      "|  sqft_basement   |  None |      0.0      |  None  |\n",
      "|     yr_built     |  None |      0.0      |  None  |\n",
      "|   yr_renovated   |  None |      0.0      |  None  |\n",
      "+------------------+-------+---------------+--------+\n",
      "[18 rows x 4 columns]\n",
      "\n"
     ]
    }
   ],
   "source": [
    "coefficients = model_all.get('coefficients')\n",
    "coefficients.print_rows(coefficients.shape[0])"
   ]
  },
  {
   "cell_type": "code",
   "execution_count": 17,
   "metadata": {
    "collapsed": false
   },
   "outputs": [
    {
     "data": {
      "text/html": [
       "<div style=\"max-height:1000px;max-width:1500px;overflow:auto;\"><table frame=\"box\" rules=\"cols\">\n",
       "    <tr>\n",
       "        <th style=\"padding-left: 1em; padding-right: 1em; text-align: center\">name</th>\n",
       "        <th style=\"padding-left: 1em; padding-right: 1em; text-align: center\">index</th>\n",
       "        <th style=\"padding-left: 1em; padding-right: 1em; text-align: center\">value</th>\n",
       "        <th style=\"padding-left: 1em; padding-right: 1em; text-align: center\">stderr</th>\n",
       "    </tr>\n",
       "    <tr>\n",
       "        <td style=\"padding-left: 1em; padding-right: 1em; text-align: center; vertical-align: top\">(intercept)</td>\n",
       "        <td style=\"padding-left: 1em; padding-right: 1em; text-align: center; vertical-align: top\">None</td>\n",
       "        <td style=\"padding-left: 1em; padding-right: 1em; text-align: center; vertical-align: top\">274873.05595</td>\n",
       "        <td style=\"padding-left: 1em; padding-right: 1em; text-align: center; vertical-align: top\">None</td>\n",
       "    </tr>\n",
       "    <tr>\n",
       "        <td style=\"padding-left: 1em; padding-right: 1em; text-align: center; vertical-align: top\">bathrooms</td>\n",
       "        <td style=\"padding-left: 1em; padding-right: 1em; text-align: center; vertical-align: top\">None</td>\n",
       "        <td style=\"padding-left: 1em; padding-right: 1em; text-align: center; vertical-align: top\">8468.53108691</td>\n",
       "        <td style=\"padding-left: 1em; padding-right: 1em; text-align: center; vertical-align: top\">None</td>\n",
       "    </tr>\n",
       "    <tr>\n",
       "        <td style=\"padding-left: 1em; padding-right: 1em; text-align: center; vertical-align: top\">sqft_living</td>\n",
       "        <td style=\"padding-left: 1em; padding-right: 1em; text-align: center; vertical-align: top\">None</td>\n",
       "        <td style=\"padding-left: 1em; padding-right: 1em; text-align: center; vertical-align: top\">24.4207209824</td>\n",
       "        <td style=\"padding-left: 1em; padding-right: 1em; text-align: center; vertical-align: top\">None</td>\n",
       "    </tr>\n",
       "    <tr>\n",
       "        <td style=\"padding-left: 1em; padding-right: 1em; text-align: center; vertical-align: top\">sqft_living_sqrt</td>\n",
       "        <td style=\"padding-left: 1em; padding-right: 1em; text-align: center; vertical-align: top\">None</td>\n",
       "        <td style=\"padding-left: 1em; padding-right: 1em; text-align: center; vertical-align: top\">350.060553386</td>\n",
       "        <td style=\"padding-left: 1em; padding-right: 1em; text-align: center; vertical-align: top\">None</td>\n",
       "    </tr>\n",
       "    <tr>\n",
       "        <td style=\"padding-left: 1em; padding-right: 1em; text-align: center; vertical-align: top\">grade</td>\n",
       "        <td style=\"padding-left: 1em; padding-right: 1em; text-align: center; vertical-align: top\">None</td>\n",
       "        <td style=\"padding-left: 1em; padding-right: 1em; text-align: center; vertical-align: top\">842.068034898</td>\n",
       "        <td style=\"padding-left: 1em; padding-right: 1em; text-align: center; vertical-align: top\">None</td>\n",
       "    </tr>\n",
       "    <tr>\n",
       "        <td style=\"padding-left: 1em; padding-right: 1em; text-align: center; vertical-align: top\">sqft_above</td>\n",
       "        <td style=\"padding-left: 1em; padding-right: 1em; text-align: center; vertical-align: top\">None</td>\n",
       "        <td style=\"padding-left: 1em; padding-right: 1em; text-align: center; vertical-align: top\">20.0247224171</td>\n",
       "        <td style=\"padding-left: 1em; padding-right: 1em; text-align: center; vertical-align: top\">None</td>\n",
       "    </tr>\n",
       "</table>\n",
       "[? rows x 4 columns]<br/>Note: Only the head of the SFrame is printed. This SFrame is lazily evaluated.<br/>You can use len(sf) to force materialization.\n",
       "</div>"
      ],
      "text/plain": [
       "Columns:\n",
       "\tname\tstr\n",
       "\tindex\tstr\n",
       "\tvalue\tfloat\n",
       "\tstderr\tfloat\n",
       "\n",
       "Rows: Unknown\n",
       "\n",
       "Data:\n",
       "+------------------+-------+---------------+--------+\n",
       "|       name       | index |     value     | stderr |\n",
       "+------------------+-------+---------------+--------+\n",
       "|   (intercept)    |  None |  274873.05595 |  None  |\n",
       "|    bathrooms     |  None | 8468.53108691 |  None  |\n",
       "|   sqft_living    |  None | 24.4207209824 |  None  |\n",
       "| sqft_living_sqrt |  None | 350.060553386 |  None  |\n",
       "|      grade       |  None | 842.068034898 |  None  |\n",
       "|    sqft_above    |  None | 20.0247224171 |  None  |\n",
       "+------------------+-------+---------------+--------+\n",
       "[? rows x 4 columns]\n",
       "Note: Only the head of the SFrame is printed. This SFrame is lazily evaluated.\n",
       "You can use len(sf) to force materialization."
      ]
     },
     "execution_count": 17,
     "metadata": {},
     "output_type": "execute_result"
    }
   ],
   "source": [
    "coefficients[coefficients['value']!= 0]"
   ]
  },
  {
   "cell_type": "markdown",
   "metadata": {},
   "source": [
    "Note that a majority of the weights have been set to zero. So by setting an L1 penalty that's large enough, we are performing a subset selection. \n",
    "\n",
    "***QUIZ QUESTION***:\n",
    "According to this list of weights, which of the features have been chosen? "
   ]
  },
  {
   "cell_type": "markdown",
   "metadata": {},
   "source": [
    "# Selecting an L1 penalty"
   ]
  },
  {
   "cell_type": "markdown",
   "metadata": {},
   "source": [
    "To find a good L1 penalty, we will explore multiple values using a validation set. Let us do three way split into train, validation, and test sets:\n",
    "* Split our sales data into 2 sets: training and test\n",
    "* Further split our training data into two sets: train, validation\n",
    "\n",
    "Be *very* careful that you use seed = 1 to ensure you get the same answer!"
   ]
  },
  {
   "cell_type": "code",
   "execution_count": 20,
   "metadata": {
    "collapsed": true
   },
   "outputs": [],
   "source": [
    "(training_and_validation, testing) = sales.random_split(.9,seed=1) # initial train/test split\n",
    "(training, validation) = training_and_validation.random_split(0.5, seed=1) # split training into train and validate"
   ]
  },
  {
   "cell_type": "markdown",
   "metadata": {},
   "source": [
    "Next, we write a loop that does the following:\n",
    "* For `l1_penalty` in [10^1, 10^1.5, 10^2, 10^2.5, ..., 10^7] (to get this in Python, type `np.logspace(1, 7, num=13)`.)\n",
    "    * Fit a regression model with a given `l1_penalty` on TRAIN data. Specify `l1_penalty=l1_penalty` and `l2_penalty=0.` in the parameter list.\n",
    "    * Compute the RSS on VALIDATION data (here you will want to use `.predict()`) for that `l1_penalty`\n",
    "* Report which `l1_penalty` produced the lowest RSS on validation data.\n",
    "\n",
    "When you call `linear_regression.create()` make sure you set `validation_set = None`.\n",
    "\n",
    "Note: you can turn off the print out of `linear_regression.create()` with `verbose = False`"
   ]
  },
  {
   "cell_type": "code",
   "execution_count": 39,
   "metadata": {
    "collapsed": false
   },
   "outputs": [
    {
     "name": "stdout",
     "output_type": "stream",
     "text": [
      "+------------------+-------+------------------+--------+\n",
      "|       name       | index |      value       | stderr |\n",
      "+------------------+-------+------------------+--------+\n",
      "|   (intercept)    |  None |  18993.4272128   |  None  |\n",
      "|     bedrooms     |  None |  7936.96767903   |  None  |\n",
      "| bedrooms_square  |  None |  936.993368193   |  None  |\n",
      "|    bathrooms     |  None |  25409.5889341   |  None  |\n",
      "|   sqft_living    |  None |  39.1151363797   |  None  |\n",
      "| sqft_living_sqrt |  None |  1124.65021281   |  None  |\n",
      "|     sqft_lot     |  None | 0.00348361822299 |  None  |\n",
      "|  sqft_lot_sqrt   |  None |  148.258391011   |  None  |\n",
      "|      floors      |  None |   21204.335467   |  None  |\n",
      "|  floors_square   |  None |  12915.5243361   |  None  |\n",
      "|    waterfront    |  None |  601905.594545   |  None  |\n",
      "|       view       |  None |  93312.8573119   |  None  |\n",
      "|    condition     |  None |  6609.03571245   |  None  |\n",
      "|      grade       |  None |  6206.93999188   |  None  |\n",
      "|    sqft_above    |  None |  43.2870534193   |  None  |\n",
      "|  sqft_basement   |  None |  122.367827534   |  None  |\n",
      "|     yr_built     |  None |  9.43363539372   |  None  |\n",
      "|   yr_renovated   |  None |  56.0720034488   |  None  |\n",
      "+------------------+-------+------------------+--------+\n",
      "[18 rows x 4 columns]\n",
      "\n",
      "+------------------+-------+------------------+--------+\n",
      "|       name       | index |      value       | stderr |\n",
      "+------------------+-------+------------------+--------+\n",
      "|   (intercept)    |  None |  18993.4285345   |  None  |\n",
      "|     bedrooms     |  None |  7936.96764801   |  None  |\n",
      "| bedrooms_square  |  None |   936.99334899   |  None  |\n",
      "|    bathrooms     |  None |  25409.5888977   |  None  |\n",
      "|   sqft_living    |  None |  39.1151363649   |  None  |\n",
      "| sqft_living_sqrt |  None |   1124.6502113   |  None  |\n",
      "|     sqft_lot     |  None | 0.00348360549025 |  None  |\n",
      "|  sqft_lot_sqrt   |  None |  148.258390148   |  None  |\n",
      "|      floors      |  None |  21204.3353589   |  None  |\n",
      "|  floors_square   |  None |  12915.5242399   |  None  |\n",
      "|    waterfront    |  None |  601905.587264   |  None  |\n",
      "|       view       |  None |  93312.8568285   |  None  |\n",
      "|    condition     |  None |   6609.0356597   |  None  |\n",
      "|      grade       |  None |  6206.93997768   |  None  |\n",
      "|    sqft_above    |  None |  43.2870533669   |  None  |\n",
      "|  sqft_basement   |  None |  122.367826798   |  None  |\n",
      "|     yr_built     |  None |  9.43363531039   |  None  |\n",
      "|   yr_renovated   |  None |  56.0720018382   |  None  |\n",
      "+------------------+-------+------------------+--------+\n",
      "[18 rows x 4 columns]\n",
      "\n",
      "+------------------+-------+-----------------+--------+\n",
      "|       name       | index |      value      | stderr |\n",
      "+------------------+-------+-----------------+--------+\n",
      "|   (intercept)    |  None |  18993.4327144  |  None  |\n",
      "|     bedrooms     |  None |   7936.9675499  |  None  |\n",
      "| bedrooms_square  |  None |  936.993288262  |  None  |\n",
      "|    bathrooms     |  None |  25409.5887825  |  None  |\n",
      "|   sqft_living    |  None |  39.1151363182  |  None  |\n",
      "| sqft_living_sqrt |  None |  1124.65020653  |  None  |\n",
      "|     sqft_lot     |  None | 0.0034835652258 |  None  |\n",
      "|  sqft_lot_sqrt   |  None |  148.258387417  |  None  |\n",
      "|      floors      |  None |  21204.3350171  |  None  |\n",
      "|  floors_square   |  None |  12915.5239357  |  None  |\n",
      "|    waterfront    |  None |   601905.56424  |  None  |\n",
      "|       view       |  None |  93312.8552999  |  None  |\n",
      "|    condition     |  None |  6609.03549292  |  None  |\n",
      "|      grade       |  None |  6206.93993278  |  None  |\n",
      "|    sqft_above    |  None |   43.287053201  |  None  |\n",
      "|  sqft_basement   |  None |  122.367824469  |  None  |\n",
      "|     yr_built     |  None |  9.43363504686  |  None  |\n",
      "|   yr_renovated   |  None |   56.071996745  |  None  |\n",
      "+------------------+-------+-----------------+--------+\n",
      "[18 rows x 4 columns]\n",
      "\n",
      "+------------------+-------+------------------+--------+\n",
      "|       name       | index |      value       | stderr |\n",
      "+------------------+-------+------------------+--------+\n",
      "|   (intercept)    |  None |  18993.4459322   |  None  |\n",
      "|     bedrooms     |  None |  7936.96723967   |  None  |\n",
      "| bedrooms_square  |  None |  936.993096225   |  None  |\n",
      "|    bathrooms     |  None |  25409.5884183   |  None  |\n",
      "|   sqft_living    |  None |  39.1151361705   |  None  |\n",
      "| sqft_living_sqrt |  None |  1124.65019144   |  None  |\n",
      "|     sqft_lot     |  None | 0.00348343789842 |  None  |\n",
      "|  sqft_lot_sqrt   |  None |  148.258378783   |  None  |\n",
      "|      floors      |  None |  21204.3339364   |  None  |\n",
      "|  floors_square   |  None |  12915.5229739   |  None  |\n",
      "|    waterfront    |  None |  601905.491432   |  None  |\n",
      "|       view       |  None |  93312.8504661   |  None  |\n",
      "|    condition     |  None |  6609.03496549   |  None  |\n",
      "|      grade       |  None |  6206.93979079   |  None  |\n",
      "|    sqft_above    |  None |  43.2870526766   |  None  |\n",
      "|  sqft_basement   |  None |  122.367817104   |  None  |\n",
      "|     yr_built     |  None |  9.43363421352   |  None  |\n",
      "|   yr_renovated   |  None |  56.0719806388   |  None  |\n",
      "+------------------+-------+------------------+--------+\n",
      "[18 rows x 4 columns]\n",
      "\n",
      "+------------------+-------+------------------+--------+\n",
      "|       name       | index |      value       | stderr |\n",
      "+------------------+-------+------------------+--------+\n",
      "|   (intercept)    |  None |  18993.4877305   |  None  |\n",
      "|     bedrooms     |  None |  7936.96625863   |  None  |\n",
      "| bedrooms_square  |  None |  936.992488952   |  None  |\n",
      "|    bathrooms     |  None |  25409.5872664   |  None  |\n",
      "|   sqft_living    |  None |  39.1151357034   |  None  |\n",
      "| sqft_living_sqrt |  None |  1124.65014372   |  None  |\n",
      "|     sqft_lot     |  None | 0.00348303525386 |  None  |\n",
      "|  sqft_lot_sqrt   |  None |  148.258351477   |  None  |\n",
      "|      floors      |  None |  21204.3305187   |  None  |\n",
      "|  floors_square   |  None |  12915.5199324   |  None  |\n",
      "|    waterfront    |  None |  601905.261191   |  None  |\n",
      "|       view       |  None |  93312.8351802   |  None  |\n",
      "|    condition     |  None |  6609.03329762   |  None  |\n",
      "|      grade       |  None |  6206.93934177   |  None  |\n",
      "|    sqft_above    |  None |  43.2870510181   |  None  |\n",
      "|  sqft_basement   |  None |  122.367793815   |  None  |\n",
      "|     yr_built     |  None |  9.43363157825   |  None  |\n",
      "|   yr_renovated   |  None |  56.0719297067   |  None  |\n",
      "+------------------+-------+------------------+--------+\n",
      "[18 rows x 4 columns]\n",
      "\n",
      "+------------------+-------+------------------+--------+\n",
      "|       name       | index |      value       | stderr |\n",
      "+------------------+-------+------------------+--------+\n",
      "|   (intercept)    |  None |  18993.6199083   |  None  |\n",
      "|     bedrooms     |  None |  7936.96315631   |  None  |\n",
      "| bedrooms_square  |  None |  936.990568583   |  None  |\n",
      "|    bathrooms     |  None |  25409.5836239   |  None  |\n",
      "|   sqft_living    |  None |  39.1151342262   |  None  |\n",
      "| sqft_living_sqrt |  None |  1124.64999282   |  None  |\n",
      "|     sqft_lot     |  None | 0.00348176198003 |  None  |\n",
      "|  sqft_lot_sqrt   |  None |  148.258265129   |  None  |\n",
      "|      floors      |  None |  21204.3197113   |  None  |\n",
      "|  floors_square   |  None |  12915.5103143   |  None  |\n",
      "|    waterfront    |  None |  601904.533104   |  None  |\n",
      "|       view       |  None |  93312.7868419   |  None  |\n",
      "|    condition     |  None |  6609.02802336   |  None  |\n",
      "|      grade       |  None |  6206.93792184   |  None  |\n",
      "|    sqft_above    |  None |  43.2870457734   |  None  |\n",
      "|  sqft_basement   |  None |  122.367720169   |  None  |\n",
      "|     yr_built     |  None |  9.43362324482   |  None  |\n",
      "|   yr_renovated   |  None |  56.0717686452   |  None  |\n",
      "+------------------+-------+------------------+--------+\n",
      "[18 rows x 4 columns]\n",
      "\n",
      "+------------------+-------+------------------+--------+\n",
      "|       name       | index |      value       | stderr |\n",
      "+------------------+-------+------------------+--------+\n",
      "|   (intercept)    |  None |  18994.0378912   |  None  |\n",
      "|     bedrooms     |  None |  7936.95334592   |  None  |\n",
      "| bedrooms_square  |  None |  936.984495845   |  None  |\n",
      "|    bathrooms     |  None |  25409.5721055   |  None  |\n",
      "|   sqft_living    |  None |   39.115129555   |  None  |\n",
      "| sqft_living_sqrt |  None |  1124.64951563   |  None  |\n",
      "|     sqft_lot     |  None | 0.00347773553446 |  None  |\n",
      "|  sqft_lot_sqrt   |  None |  148.257992074   |  None  |\n",
      "|      floors      |  None |   21204.285535   |  None  |\n",
      "|  floors_square   |  None |  12915.4798991   |  None  |\n",
      "|    waterfront    |  None |  601902.230693   |  None  |\n",
      "|       view       |  None |  93312.6339828   |  None  |\n",
      "|    condition     |  None |  6609.01134468   |  None  |\n",
      "|      grade       |  None |  6206.93343165   |  None  |\n",
      "|    sqft_above    |  None |  43.2870291885   |  None  |\n",
      "|  sqft_basement   |  None |  122.367487279   |  None  |\n",
      "|     yr_built     |  None |  9.43359689216   |  None  |\n",
      "|   yr_renovated   |  None |   56.071259324   |  None  |\n",
      "+------------------+-------+------------------+--------+\n",
      "[18 rows x 4 columns]\n",
      "\n",
      "+------------------+-------+-----------------+--------+\n",
      "|       name       | index |      value      | stderr |\n",
      "+------------------+-------+-----------------+--------+\n",
      "|   (intercept)    |  None |  18995.3596694  |  None  |\n",
      "|     bedrooms     |  None |  7936.92232272  |  None  |\n",
      "| bedrooms_square  |  None |  936.965292161  |  None  |\n",
      "|    bathrooms     |  None |  25409.5356808  |  None  |\n",
      "|   sqft_living    |  None |  39.1151147834  |  None  |\n",
      "| sqft_living_sqrt |  None |  1124.64800663  |  None  |\n",
      "|     sqft_lot     |  None | 0.0034650027953 |  None  |\n",
      "|  sqft_lot_sqrt   |  None |  148.257128596  |  None  |\n",
      "|      floors      |  None |  21204.1774601  |  None  |\n",
      "|  floors_square   |  None |  12915.3837177  |  None  |\n",
      "|    waterfront    |  None |   601894.94983  |  None  |\n",
      "|       view       |  None |  93312.1505999  |  None  |\n",
      "|    condition     |  None |  6608.95860207  |  None  |\n",
      "|      grade       |  None |   6206.9192324  |  None  |\n",
      "|    sqft_above    |  None |  43.2869767421  |  None  |\n",
      "|  sqft_basement   |  None |  122.366750815  |  None  |\n",
      "|     yr_built     |  None |  9.43351355776  |  None  |\n",
      "|   yr_renovated   |  None |  56.0696487088  |  None  |\n",
      "+------------------+-------+-----------------+--------+\n",
      "[18 rows x 4 columns]\n",
      "\n",
      "+------------------+-------+------------------+--------+\n",
      "|       name       | index |      value       | stderr |\n",
      "+------------------+-------+------------------+--------+\n",
      "|   (intercept)    |  None |   18999.539499   |  None  |\n",
      "|     bedrooms     |  None |  7936.82421875   |  None  |\n",
      "| bedrooms_square  |  None |  936.904564783   |  None  |\n",
      "|    bathrooms     |  None |  25409.4204959   |  None  |\n",
      "|   sqft_living    |  None |  39.1150680714   |  None  |\n",
      "| sqft_living_sqrt |  None |  1124.64323476   |  None  |\n",
      "|     sqft_lot     |  None | 0.00342473834052 |  None  |\n",
      "|  sqft_lot_sqrt   |  None |  148.254398041   |  None  |\n",
      "|      floors      |  None |  21203.8356975   |  None  |\n",
      "|  floors_square   |  None |  12915.0795655   |  None  |\n",
      "|    waterfront    |  None |  601871.925719   |  None  |\n",
      "|       view       |  None |  93310.6220089   |  None  |\n",
      "|    condition     |  None |  6608.79181529   |  None  |\n",
      "|      grade       |  None |  6206.87433044   |  None  |\n",
      "|    sqft_above    |  None |  43.2868108922   |  None  |\n",
      "|  sqft_basement   |  None |  122.364421913   |  None  |\n",
      "|     yr_built     |  None |  9.43325003126   |  None  |\n",
      "|   yr_renovated   |  None |  56.0645554967   |  None  |\n",
      "+------------------+-------+------------------+--------+\n",
      "[18 rows x 4 columns]\n",
      "\n",
      "+------------------+-------+------------------+--------+\n",
      "|       name       | index |      value       | stderr |\n",
      "+------------------+-------+------------------+--------+\n",
      "|   (intercept)    |  None |  19012.7572816   |  None  |\n",
      "|     bedrooms     |  None |  7936.51398675   |  None  |\n",
      "| bedrooms_square  |  None |  936.712527935   |  None  |\n",
      "|    bathrooms     |  None |  25409.0562492   |  None  |\n",
      "|   sqft_living    |  None |  39.1149203552   |  None  |\n",
      "| sqft_living_sqrt |  None |  1124.62814478   |  None  |\n",
      "|     sqft_lot     |  None | 0.00329741094431 |  None  |\n",
      "|  sqft_lot_sqrt   |  None |  148.245763265   |  None  |\n",
      "|      floors      |  None |   21202.754949   |  None  |\n",
      "|  floors_square   |  None |  12914.1177518   |  None  |\n",
      "|    waterfront    |  None |  601799.117081   |  None  |\n",
      "|       view       |  None |  93305.7881796   |  None  |\n",
      "|    condition     |  None |  6608.26438913   |  None  |\n",
      "|      grade       |  None |  6206.73233795   |  None  |\n",
      "|    sqft_above    |  None |  43.2862864287   |  None  |\n",
      "|  sqft_basement   |  None |  122.357057279   |  None  |\n",
      "|     yr_built     |  None |  9.43241668723   |  None  |\n",
      "|   yr_renovated   |  None |  56.0484493444   |  None  |\n",
      "+------------------+-------+------------------+--------+\n",
      "[18 rows x 4 columns]\n",
      "\n",
      "+------------------+-------+------------------+--------+\n",
      "|       name       | index |      value       | stderr |\n",
      "+------------------+-------+------------------+--------+\n",
      "|   (intercept)    |  None |  19054.5555764   |  None  |\n",
      "|     bedrooms     |  None |  7935.53294712   |  None  |\n",
      "| bedrooms_square  |  None |  936.105254156   |  None  |\n",
      "|    bathrooms     |  None |  25407.9044002   |  None  |\n",
      "|   sqft_living    |  None |  39.1144532356   |  None  |\n",
      "| sqft_living_sqrt |  None |  1124.58042608   |  None  |\n",
      "|     sqft_lot     |  None | 0.00289476640108 |  None  |\n",
      "|  sqft_lot_sqrt   |  None |  148.218457709   |  None  |\n",
      "|      floors      |  None |  21199.3373226   |  None  |\n",
      "|  floors_square   |  None |  12911.0762302   |  None  |\n",
      "|    waterfront    |  None |  601568.875973   |  None  |\n",
      "|       view       |  None |  93290.5022704   |  None  |\n",
      "|    condition     |  None |  6606.59652132   |  None  |\n",
      "|      grade       |  None |  6206.28331834   |  None  |\n",
      "|    sqft_above    |  None |  43.2846279298   |  None  |\n",
      "|  sqft_basement   |  None |  122.333768262   |  None  |\n",
      "|     yr_built     |  None |  9.42978142224   |  None  |\n",
      "|   yr_renovated   |  None |  55.9975172235   |  None  |\n",
      "+------------------+-------+------------------+--------+\n",
      "[18 rows x 4 columns]\n",
      "\n",
      "+------------------+-------+------------------+--------+\n",
      "|       name       | index |      value       | stderr |\n",
      "+------------------+-------+------------------+--------+\n",
      "|   (intercept)    |  None |  19186.7333988   |  None  |\n",
      "|     bedrooms     |  None |   7932.4306272   |  None  |\n",
      "| bedrooms_square  |  None |   934.18488573   |  None  |\n",
      "|    bathrooms     |  None |  25404.2619334   |  None  |\n",
      "|   sqft_living    |  None |  39.1129760734   |  None  |\n",
      "| sqft_living_sqrt |  None |  1124.42952628   |  None  |\n",
      "|     sqft_lot     |  None | 0.00162149247578 |  None  |\n",
      "|  sqft_lot_sqrt   |  None |  148.132109954   |  None  |\n",
      "|      floors      |  None |  21188.5298383   |  None  |\n",
      "|  floors_square   |  None |  12901.4580936   |  None  |\n",
      "|    waterfront    |  None |  600840.789617   |  None  |\n",
      "|       view       |  None |  93242.1639781   |  None  |\n",
      "|    condition     |  None |  6601.32225988   |  None  |\n",
      "|      grade       |  None |  6204.86339356   |  None  |\n",
      "|    sqft_above    |  None |  43.2793832952   |  None  |\n",
      "|  sqft_basement   |  None |  122.260121918   |  None  |\n",
      "|     yr_built     |  None |  9.42144798212   |  None  |\n",
      "|   yr_renovated   |  None |  55.8364557053   |  None  |\n",
      "+------------------+-------+------------------+--------+\n",
      "[18 rows x 4 columns]\n",
      "\n",
      "+------------------+-------+--------------------+--------+\n",
      "|       name       | index |       value        | stderr |\n",
      "+------------------+-------+--------------------+--------+\n",
      "|   (intercept)    |  None |   19604.7163508    |  None  |\n",
      "|     bedrooms     |  None |   7922.62023075    |  None  |\n",
      "| bedrooms_square  |  None |   928.112147889    |  None  |\n",
      "|    bathrooms     |  None |    25392.743443    |  None  |\n",
      "|   sqft_living    |  None |   39.1083048767    |  None  |\n",
      "| sqft_living_sqrt |  None |   1123.95233925    |  None  |\n",
      "|     sqft_lot     |  None | -0.000823987151992 |  None  |\n",
      "|  sqft_lot_sqrt   |  None |   147.859054391    |  None  |\n",
      "|      floors      |  None |    21154.353574    |  None  |\n",
      "|  floors_square   |  None |    12871.042877    |  None  |\n",
      "|    waterfront    |  None |   598538.378522    |  None  |\n",
      "|       view       |  None |   93089.3048849    |  None  |\n",
      "|    condition     |  None |   6584.64358167    |  None  |\n",
      "|      grade       |  None |   6200.37319739    |  None  |\n",
      "|    sqft_above    |  None |   43.2627983054    |  None  |\n",
      "|  sqft_basement   |  None |   122.027231745    |  None  |\n",
      "|     yr_built     |  None |   9.39509533202    |  None  |\n",
      "|   yr_renovated   |  None |   55.3271344922    |  None  |\n",
      "+------------------+-------+--------------------+--------+\n",
      "[18 rows x 4 columns]\n",
      "\n",
      "(625766285142461.2, 10.0)\n",
      "(625766285362395.4, 31.622776601683793)\n",
      "(625766286057886.9, 100.0)\n",
      "(625766288257224.8, 316.22776601683796)\n",
      "(625766295212185.9, 1000.0)\n",
      "(625766317206077.6, 3162.2776601683795)\n",
      "(625766386760661.5, 10000.0)\n",
      "(625766606749281.2, 31622.776601683792)\n",
      "(625767302791633.1, 100000.0)\n",
      "(625769507643885.0, 316227.76601683791)\n",
      "(625776517727025.6, 1000000.0)\n",
      "(625799062845466.8, 3162277.6601683795)\n",
      "(625883719085424.4, 10000000.0)\n",
      "min rss 6.25766285142e+14 with l1_penalty 10.0\n"
     ]
    }
   ],
   "source": [
    "rss = list()\n",
    "for l1_penalty in np.logspace(1, 7, num=13):\n",
    "    temp_model = graphlab.linear_regression.create(training, target='price', \n",
    "                                                   features=all_features,\n",
    "                                                   validation_set=None, \n",
    "                                                   l2_penalty=0., \n",
    "                                                   l1_penalty=l1_penalty,\n",
    "                                                   verbose = False)\n",
    "    prediction = temp_model.predict(validation)\n",
    "    difference = abs(prediction - validation['price'])\n",
    "    rss.append((sum([x**2 for x in difference]), l1_penalty))\n",
    "    temp_coefficients = temp_model.get(\"coefficients\")\n",
    "    temp_coefficients.print_rows(temp_coefficients.shape[0])\n",
    "for val in rss:\n",
    "    print val\n",
    "min_rss = min(rss)\n",
    "print \"min rss\", min_rss[0], \"with l1_penalty\", min_rss[1]"
   ]
  },
  {
   "cell_type": "code",
   "execution_count": 36,
   "metadata": {
    "collapsed": false
   },
   "outputs": [
    {
     "name": "stdout",
     "output_type": "stream",
     "text": [
      "Test RSS 1.56983602382e+14\n"
     ]
    }
   ],
   "source": [
    "best_l1_penalty_model = graphlab.linear_regression.create(training, target='price', \n",
    "                                                          validation_set=None,\n",
    "                                                          features=all_features, \n",
    "                                                          l2_penalty=0.0, l1_penalty=min_rss[1], verbose=False)\n",
    "difference = abs(best_l1_penalty_model.predict(testing) - testing['price'])\n",
    "print \"Test RSS\", sum([x**2 for x in difference])"
   ]
  },
  {
   "cell_type": "markdown",
   "metadata": {},
   "source": [
    "*** QUIZ QUESTIONS ***\n",
    "1. What was the best value for the `l1_penalty`?\n",
    "2. What is the RSS on TEST data of the model with the best `l1_penalty`?"
   ]
  },
  {
   "cell_type": "code",
   "execution_count": null,
   "metadata": {
    "collapsed": false
   },
   "outputs": [],
   "source": []
  },
  {
   "cell_type": "markdown",
   "metadata": {},
   "source": [
    "***QUIZ QUESTION***\n",
    "Also, using this value of L1 penalty, how many nonzero weights do you have?"
   ]
  },
  {
   "cell_type": "code",
   "execution_count": 38,
   "metadata": {
    "collapsed": false
   },
   "outputs": [
    {
     "name": "stdout",
     "output_type": "stream",
     "text": [
      "+------------------+-------+------------------+--------+\n",
      "|       name       | index |      value       | stderr |\n",
      "+------------------+-------+------------------+--------+\n",
      "|   (intercept)    |  None |  18993.4272128   |  None  |\n",
      "|     bedrooms     |  None |  7936.96767903   |  None  |\n",
      "| bedrooms_square  |  None |  936.993368193   |  None  |\n",
      "|    bathrooms     |  None |  25409.5889341   |  None  |\n",
      "|   sqft_living    |  None |  39.1151363797   |  None  |\n",
      "| sqft_living_sqrt |  None |  1124.65021281   |  None  |\n",
      "|     sqft_lot     |  None | 0.00348361822299 |  None  |\n",
      "|  sqft_lot_sqrt   |  None |  148.258391011   |  None  |\n",
      "|      floors      |  None |   21204.335467   |  None  |\n",
      "|  floors_square   |  None |  12915.5243361   |  None  |\n",
      "|    waterfront    |  None |  601905.594545   |  None  |\n",
      "|       view       |  None |  93312.8573119   |  None  |\n",
      "|    condition     |  None |  6609.03571245   |  None  |\n",
      "|      grade       |  None |  6206.93999188   |  None  |\n",
      "|    sqft_above    |  None |  43.2870534193   |  None  |\n",
      "|  sqft_basement   |  None |  122.367827534   |  None  |\n",
      "|     yr_built     |  None |  9.43363539372   |  None  |\n",
      "|   yr_renovated   |  None |  56.0720034488   |  None  |\n",
      "+------------------+-------+------------------+--------+\n",
      "[18 rows x 4 columns]\n",
      "\n",
      "None\n"
     ]
    }
   ],
   "source": [
    "coefficients_best_l1_penalty =  best_l1_penalty_model.get(\"coefficients\")\n",
    "print coefficients_best_l1_penalty.print_rows(coefficients_best_l1_penalty.shape[0])"
   ]
  },
  {
   "cell_type": "code",
   "execution_count": 46,
   "metadata": {
    "collapsed": false
   },
   "outputs": [
    {
     "data": {
      "text/plain": [
       "18"
      ]
     },
     "execution_count": 46,
     "metadata": {},
     "output_type": "execute_result"
    }
   ],
   "source": [
    "coefficients_best_l1_penalty[coefficients_best_l1_penalty['value']!=0].shape[0]"
   ]
  },
  {
   "cell_type": "markdown",
   "metadata": {},
   "source": [
    "# Limit the number of nonzero weights\n",
    "\n",
    "What if we absolutely wanted to limit ourselves to, say, 7 features? This may be important if we want to derive \"a rule of thumb\" --- an interpretable model that has only a few features in them."
   ]
  },
  {
   "cell_type": "markdown",
   "metadata": {},
   "source": [
    "In this section, you are going to implement a simple, two phase procedure to achive this goal:\n",
    "1. Explore a large range of `l1_penalty` values to find a narrow region of `l1_penalty` values where models are likely to have the desired number of non-zero weights.\n",
    "2. Further explore the narrow region you found to find a good value for `l1_penalty` that achieves the desired sparsity.  Here, we will again use a validation set to choose the best value for `l1_penalty`."
   ]
  },
  {
   "cell_type": "code",
   "execution_count": 47,
   "metadata": {
    "collapsed": true
   },
   "outputs": [],
   "source": [
    "max_nonzeros = 7"
   ]
  },
  {
   "cell_type": "markdown",
   "metadata": {},
   "source": [
    "## Exploring the larger range of values to find a narrow range with the desired sparsity\n",
    "\n",
    "Let's define a wide range of possible `l1_penalty_values`:"
   ]
  },
  {
   "cell_type": "code",
   "execution_count": 48,
   "metadata": {
    "collapsed": false
   },
   "outputs": [
    {
     "name": "stdout",
     "output_type": "stream",
     "text": [
      "[  1.00000000e+08   1.27427499e+08   1.62377674e+08   2.06913808e+08\n",
      "   2.63665090e+08   3.35981829e+08   4.28133240e+08   5.45559478e+08\n",
      "   6.95192796e+08   8.85866790e+08   1.12883789e+09   1.43844989e+09\n",
      "   1.83298071e+09   2.33572147e+09   2.97635144e+09   3.79269019e+09\n",
      "   4.83293024e+09   6.15848211e+09   7.84759970e+09   1.00000000e+10]\n"
     ]
    }
   ],
   "source": [
    "l1_penalty_values = np.logspace(8, 10, num=20)\n",
    "print l1_penalty_values"
   ]
  },
  {
   "cell_type": "markdown",
   "metadata": {},
   "source": [
    "Now, implement a loop that search through this space of possible `l1_penalty` values:\n",
    "\n",
    "* For `l1_penalty` in `np.logspace(8, 10, num=20)`:\n",
    "    * Fit a regression model with a given `l1_penalty` on TRAIN data. Specify `l1_penalty=l1_penalty` and `l2_penalty=0.` in the parameter list. When you call `linear_regression.create()` make sure you set `validation_set = None`\n",
    "    * Extract the weights of the model and count the number of nonzeros. Save the number of nonzeros to a list.\n",
    "        * *Hint: `model['coefficients']['value']` gives you an SArray with the parameters you learned.  If you call the method `.nnz()` on it, you will find the number of non-zero parameters!* "
   ]
  },
  {
   "cell_type": "code",
   "execution_count": 52,
   "metadata": {
    "collapsed": false
   },
   "outputs": [
    {
     "name": "stdout",
     "output_type": "stream",
     "text": [
      "(18, 100000000.0)\n",
      "(18, 127427498.57031322)\n",
      "(18, 162377673.91887242)\n",
      "(18, 206913808.11147901)\n",
      "(17, 263665089.87303555)\n",
      "(17, 335981828.62837881)\n",
      "(17, 428133239.8719396)\n",
      "(17, 545559478.11685145)\n",
      "(17, 695192796.17755914)\n",
      "(16, 885866790.41008317)\n",
      "(15, 1128837891.6846883)\n",
      "(15, 1438449888.2876658)\n",
      "(13, 1832980710.8324375)\n",
      "(12, 2335721469.0901213)\n",
      "(10, 2976351441.6313133)\n",
      "(6, 3792690190.7322536)\n",
      "(5, 4832930238.5717525)\n",
      "(3, 6158482110.6602545)\n",
      "(1, 7847599703.5146227)\n",
      "(1, 10000000000.0)\n"
     ]
    }
   ],
   "source": [
    "nonzero_l1penalty = list()\n",
    "for l1_penalty in l1_penalty_values:\n",
    "    temp_model = graphlab.linear_regression.create(training, target='price', \n",
    "                                               features=all_features,\n",
    "                                               validation_set=None, \n",
    "                                               l2_penalty=0., \n",
    "                                               l1_penalty=l1_penalty,\n",
    "                                               verbose = False)\n",
    "    nonzero_l1penalty.append((temp_model['coefficients']['value'].nnz(), l1_penalty))\n",
    "for val in nonzero_l1penalty:\n",
    "    print val"
   ]
  },
  {
   "cell_type": "markdown",
   "metadata": {},
   "source": [
    "Out of this large range, we want to find the two ends of our desired narrow range of `l1_penalty`.  At one end, we will have `l1_penalty` values that have too few non-zeros, and at the other end, we will have an `l1_penalty` that has too many non-zeros.  \n",
    "\n",
    "More formally, find:\n",
    "* The largest `l1_penalty` that has more non-zeros than `max_nonzero` (if we pick a penalty smaller than this value, we will definitely have too many non-zero weights)\n",
    "    * Store this value in the variable `l1_penalty_min` (we will use it later)\n",
    "* The smallest `l1_penalty` that has fewer non-zeros than `max_nonzero` (if we pick a penalty larger than this value, we will definitely have too few non-zero weights)\n",
    "    * Store this value in the variable `l1_penalty_max` (we will use it later)\n",
    "\n",
    "\n",
    "*Hint: there are many ways to do this, e.g.:*\n",
    "* Programmatically within the loop above\n",
    "* Creating a list with the number of non-zeros for each value of `l1_penalty` and inspecting it to find the appropriate boundaries."
   ]
  },
  {
   "cell_type": "code",
   "execution_count": 63,
   "metadata": {
    "collapsed": false
   },
   "outputs": [
    {
     "name": "stdout",
     "output_type": "stream",
     "text": [
      "2976351441.63\n",
      "3792690190.73\n"
     ]
    }
   ],
   "source": [
    "nonzero_l1penalty = np.asarray(nonzero_l1penalty)\n",
    "print max(nonzero_l1penalty[nonzero_l1penalty[:,0]>max_nonzeros][:,1])\n",
    "print min(nonzero_l1penalty[nonzero_l1penalty[:,0]<max_nonzeros][:,1])"
   ]
  },
  {
   "cell_type": "code",
   "execution_count": 64,
   "metadata": {
    "collapsed": false
   },
   "outputs": [],
   "source": [
    "l1_penalty_min = max(nonzero_l1penalty[nonzero_l1penalty[:,0]>max_nonzeros][:,1])\n",
    "l1_penalty_max = min(nonzero_l1penalty[nonzero_l1penalty[:,0]<max_nonzeros][:,1])"
   ]
  },
  {
   "cell_type": "markdown",
   "metadata": {},
   "source": [
    "***QUIZ QUESTIONS***\n",
    "\n",
    "What values did you find for `l1_penalty_min` and`l1_penalty_max`? "
   ]
  },
  {
   "cell_type": "code",
   "execution_count": 68,
   "metadata": {
    "collapsed": false
   },
   "outputs": [
    {
     "name": "stdout",
     "output_type": "stream",
     "text": [
      "Min:  2976351442.0\n",
      "Max:  3792690191.0\n"
     ]
    }
   ],
   "source": [
    "print \"Min: \", round(l1_penalty_min)\n",
    "print \"Max: \", round(l1_penalty_max)"
   ]
  },
  {
   "cell_type": "markdown",
   "metadata": {},
   "source": [
    "## Exploring the narrow range of values to find the solution with the right number of non-zeros that has lowest RSS on the validation set \n",
    "\n",
    "We will now explore the narrow region of `l1_penalty` values we found:"
   ]
  },
  {
   "cell_type": "code",
   "execution_count": 69,
   "metadata": {
    "collapsed": true
   },
   "outputs": [],
   "source": [
    "l1_penalty_values = np.linspace(l1_penalty_min,l1_penalty_max,20)"
   ]
  },
  {
   "cell_type": "code",
   "execution_count": 70,
   "metadata": {
    "collapsed": false
   },
   "outputs": [
    {
     "name": "stdout",
     "output_type": "stream",
     "text": [
      "[  2.97635144e+09   3.01931664e+09   3.06228184e+09   3.10524703e+09\n",
      "   3.14821223e+09   3.19117743e+09   3.23414263e+09   3.27710782e+09\n",
      "   3.32007302e+09   3.36303822e+09   3.40600341e+09   3.44896861e+09\n",
      "   3.49193381e+09   3.53489901e+09   3.57786420e+09   3.62082940e+09\n",
      "   3.66379460e+09   3.70675980e+09   3.74972499e+09   3.79269019e+09]\n"
     ]
    }
   ],
   "source": [
    "print l1_penalty_values"
   ]
  },
  {
   "cell_type": "markdown",
   "metadata": {},
   "source": [
    "* For `l1_penalty` in `np.linspace(l1_penalty_min,l1_penalty_max,20)`:\n",
    "    * Fit a regression model with a given `l1_penalty` on TRAIN data. Specify `l1_penalty=l1_penalty` and `l2_penalty=0.` in the parameter list. When you call `linear_regression.create()` make sure you set `validation_set = None`\n",
    "    * Measure the RSS of the learned model on the VALIDATION set\n",
    "\n",
    "Find the model that the lowest RSS on the VALIDATION set and has sparsity *equal* to `max_nonzero`."
   ]
  },
  {
   "cell_type": "code",
   "execution_count": 71,
   "metadata": {
    "collapsed": true
   },
   "outputs": [],
   "source": [
    "for l1_penalty in np.linspace(l1_penalty_min,l1_penalty_max,20):\n",
    "    temp_model = graphlab.linear_regression.create(training, target='price', \n",
    "                                                   features=all_features,\n",
    "                                                   validation_set=None, \n",
    "                                                   l2_penalty=0., \n",
    "                                                   l1_penalty=l1_penalty,\n",
    "                                                   verbose = False)\n",
    "    temp_model.predict(validation_set)\n",
    "    prediction = temp_model.predict(validation)\n",
    "    difference = abs(prediction - validation['price'])\n",
    "    rss.append((sum([x**2 for x in difference]), l1_penalty))\n",
    "    temp_coefficients = temp_model.get(\"coefficients\")\n",
    "    temp_coefficients.print_rows(temp_coefficients.shape[0])"
   ]
  },
  {
   "cell_type": "markdown",
   "metadata": {},
   "source": [
    "***QUIZ QUESTIONS***\n",
    "1. What value of `l1_penalty` in our narrow range has the lowest RSS on the VALIDATION set and has sparsity *equal* to `max_nonzeros`?\n",
    "2. What features in this model have non-zero coefficients?"
   ]
  },
  {
   "cell_type": "code",
   "execution_count": null,
   "metadata": {
    "collapsed": false
   },
   "outputs": [],
   "source": []
  }
 ],
 "metadata": {
  "kernelspec": {
   "display_name": "Python 2",
   "language": "python",
   "name": "python2"
  },
  "language_info": {
   "codemirror_mode": {
    "name": "ipython",
    "version": 2
   },
   "file_extension": ".py",
   "mimetype": "text/x-python",
   "name": "python",
   "nbconvert_exporter": "python",
   "pygments_lexer": "ipython2",
   "version": "2.7.11"
  }
 },
 "nbformat": 4,
 "nbformat_minor": 0
}
